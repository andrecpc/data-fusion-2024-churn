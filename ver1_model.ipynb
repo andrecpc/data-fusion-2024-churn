{
 "cells": [
  {
   "cell_type": "code",
   "execution_count": 13,
   "metadata": {},
   "outputs": [],
   "source": [
    "import pandas as pd\n",
    "import numpy as np\n",
    "import seaborn as sns\n",
    "import random\n",
    "\n",
    "from copy import deepcopy\n",
    "from xgboost import XGBClassifier\n",
    "from catboost import CatBoostClassifier\n",
    "from lightgbm import LGBMClassifier\n",
    "\n",
    "from sklearn.preprocessing import LabelEncoder\n",
    "from sklearn.ensemble import VotingClassifier\n",
    "from sklearn.model_selection import StratifiedKFold, train_test_split\n",
    "from tqdm import  tqdm\n",
    "from lifelines.utils import concordance_index\n",
    "\n",
    "np.random.seed(42)\n",
    "random.seed(42)\n",
    "\n",
    "import warnings\n",
    "warnings.filterwarnings(\"ignore\")"
   ]
  },
  {
   "cell_type": "code",
   "execution_count": 19,
   "metadata": {},
   "outputs": [],
   "source": [
    "def get_features_clients():\n",
    "    train = pd.read_csv(\"data/train.csv\")\n",
    "    clients = pd.read_csv(\"data/clients.csv\").drop(columns=['bankemplstatus'])\n",
    "    clients['employee_count_nm'] = LabelEncoder().fit_transform(clients['employee_count_nm'])\n",
    "\n",
    "    target_values = train.loc[train.user_id.isin(train.user_id.unique()), 'target'].values\n",
    "    clients['target'] = -1\n",
    "    clients.loc[clients.user_id.isin(train.user_id.unique()), 'target'] = target_values\n",
    "    return clients, train"
   ]
  },
  {
   "cell_type": "code",
   "execution_count": 20,
   "metadata": {},
   "outputs": [],
   "source": [
    "clients, train = get_features_clients()\n",
    "df_all2 = pd.read_parquet(\"features_data/df_all.parquet\")\n",
    "clients = clients.merge(df_all2, on='user_id', how='left')"
   ]
  },
  {
   "cell_type": "code",
   "execution_count": 4,
   "metadata": {},
   "outputs": [],
   "source": [
    "train_new = clients.loc[clients.target!=-1]\n",
    "\n",
    "X = train_new.drop(columns=['user_id', 'target'])\n",
    "y = train_new.target.values"
   ]
  },
  {
   "cell_type": "code",
   "execution_count": 13,
   "metadata": {},
   "outputs": [
    {
     "name": "stdout",
     "output_type": "stream",
     "text": [
      "0.7804988702874366\n",
      "0.7884091041806103\n",
      "0.787184943533285\n",
      "0.7797748592456905\n",
      "0.7859880958830073\n",
      "0.784371174626006\n"
     ]
    }
   ],
   "source": [
    "param_xgb = {'lambda': 0.02952384119001387,\n",
    " 'alpha': 9.073365018418769e-05,\n",
    " 'colsample_bytree': 0.25,\n",
    " 'subsample': 0.8,\n",
    " 'learning_rate': 0.017846526484495713,\n",
    " 'n_estimators': 500,\n",
    " 'max_depth': 8,\n",
    " 'min_child_weight': 28}\n",
    "\n",
    "param_lgb = {'lambda_l1': 3.629026441945485,'lambda_l2': 8.803696026000702, 'num_leaves': 500,\n",
    "             'feature_fraction': 0.55, 'bagging_fraction': 0.50458230379904,\n",
    " 'bagging_freq': 1, 'min_child_samples': 100, 'max_depth': 7,  'n_estimators': 1500, 'learning_rate': 0.008}\n",
    "\n",
    "param_cat = {'learning_rate': 0.04886319540870409,\n",
    "             'depth': 5, 'l2_leaf_reg': 4.509225581343402, 'bagging_temperature': 29.365597561189034}\n",
    "models, score_list = [], []\n",
    "strat_kfold = StratifiedKFold(n_splits=5, shuffle=True, random_state=42)\n",
    "\n",
    "for train_index, valid_index in strat_kfold.split(train, train['target']): \n",
    "    X_train, X_val = X.values[train_index], X.values[valid_index]\n",
    "    y_train, y_val = y[train_index], y[valid_index]\n",
    "    \n",
    "    model = VotingClassifier([\n",
    "        ('cat', CatBoostClassifier(iterations=1500, verbose=0, random_state=42, **param_cat)),\n",
    "        ('xgb', XGBClassifier(random_state=45, **param_xgb)),\n",
    "        ('lgb', LGBMClassifier(seed=35, **param_lgb)),\n",
    "    ], voting='soft') \n",
    "     \n",
    "    model.fit(X_train, y_train)\n",
    "    \n",
    "    predict = model.predict_proba(X_val)[:, 1]\n",
    "    models.append(model)\n",
    "    score_list.append(concordance_index(y_val, predict))\n",
    "    print(concordance_index(y_val, predict))\n",
    "    \n",
    "print(np.mean(score_list)) \n",
    "\n",
    "# cv = 0.7868718879153279 lb = 0,7885853384520891\n",
    "# catboost = 0.782391805532867"
   ]
  },
  {
   "cell_type": "code",
   "execution_count": 6,
   "metadata": {},
   "outputs": [],
   "source": [
    "data = pd.DataFrame({\n",
    "    'col': X.columns,\n",
    "    'val': np.mean([m.feature_importances_ for m in [m.estimators_[1] for m in models]], axis=0)\n",
    "}).sort_values(by='val', ascending=False)"
   ]
  },
  {
   "cell_type": "code",
   "execution_count": 7,
   "metadata": {},
   "outputs": [],
   "source": [
    "test = pd.read_csv('data/sample_submit_naive.csv')\n",
    "test = clients.loc[clients.user_id.isin(test.user_id.unique())]\n",
    "\n",
    "X_test = test.drop(columns=['user_id', 'target'])"
   ]
  },
  {
   "cell_type": "code",
   "execution_count": 12,
   "metadata": {},
   "outputs": [],
   "source": [
    "predict_mean = []\n",
    "\n",
    "for m in models:\n",
    "    print(\"Модель начинает обработку\")\n",
    "    predict_mean.append(m.predict_proba(X_test.values)[:, 1])\n",
    "    \n",
    "predict_test = np.sum(predict_mean, axis=0)\n",
    "\n",
    "test['predict'] = predict_test\n",
    "test[['user_id', 'predict']].to_csv('sub/submission_ensemble.csv', index=False)# 0,7888975433996723"
   ]
  }
 ],
 "metadata": {
  "kernelspec": {
   "display_name": "Python 3.9.0 64-bit",
   "language": "python",
   "name": "python3"
  },
  "language_info": {
   "codemirror_mode": {
    "name": "ipython",
    "version": 3
   },
   "file_extension": ".py",
   "mimetype": "text/x-python",
   "name": "python",
   "nbconvert_exporter": "python",
   "pygments_lexer": "ipython3",
   "version": "3.9.0"
  },
  "orig_nbformat": 4,
  "vscode": {
   "interpreter": {
    "hash": "82ed002fa2d4956f5c6aec99bcefe0f73a9f79882f3c9e2319b14958a5896ac5"
   }
  }
 },
 "nbformat": 4,
 "nbformat_minor": 2
}
